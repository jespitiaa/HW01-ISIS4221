{
 "cells": [
  {
   "cell_type": "markdown",
   "metadata": {
    "id": "syLWJ3iLxTWH"
   },
   "source": [
    "# Segundo punto\n",
    "\n",
    "Juan Sebastian Espitia\n",
    "\n",
    "Anamaria Irmgard Mojica 201316580\n",
    "\n",
    "María José Ocampo 201719100\n",
    "\n",
    "Leidy Romero Santana 201714832\n",
    "\n",
    "### Enunciado:\n",
    "Comparación de estrategias de motores de búsqueda\n",
    "\n",
    "A continuación, implementará un motor de búsqueda con cuatro estrategias diferentes.\n",
    "1. Búsqueda binaria (BS).\n",
    "2. Búsqueda binaria con índice invertido (BSII)\n",
    "3. Recuperación clasificada básica (RRI)\n",
    "4. Recuperación clasificada y vectorización de documentos (RRDV)\n",
    "Debe hacer su propia implementación utilizando numpy y pandas para manejar matrices y matrices.\n",
    "\n",
    "Nota: Hay puntos adicionales [15p] si su implementación de \"índice invertido\" está distribuida (usando para\n",
    "ejemplo MapReduce) o la clasificación de discos eficiente se realiza mediante BSBI. Ambas estrategias se explican en\n",
    "capítulo 4 del libro https://nlp.stanford.edu/IR-book/pdf/04const.pdf.\n",
    "Conjunto de datos: hay tres archivos que componen el conjunto de datos. \"Docs raws texts\" contiene 331 documentos en\n",
    "formato NAF (XML: debe utilizar el título y el contenido para modelar cada documento). \"Queries raw text\" contiene\n",
    "35 consultas. \"relevance-judgments.tsv\" contiene para cada consulta los documentos relevantes. Estos documentos relevantes fueron construidos manualmente por jueces humanos y sirven como conjunto de datos de evaluación.\n",
    "\n",
    "Pasos de preprocesamiento: para los siguientes puntos, debe preprocesar documentos y consultas utilizando tokenización por palabra, eliminación de stop words, normalización y stemming. \n",
    "\n",
    "Primero se instalan los paquetes necesarios\n"
   ]
  },
  {
   "cell_type": "code",
   "execution_count": 1,
   "metadata": {
    "executionInfo": {
     "elapsed": 450,
     "status": "ok",
     "timestamp": 1614561808554,
     "user": {
      "displayName": "Anamaria Mojica",
      "photoUrl": "https://lh3.googleusercontent.com/a-/AOh14GhTFN96xFJdDwy5x-h40m1fuVjFtM6PoY4wQgPT=s64",
      "userId": "02619606191458380615"
     },
     "user_tz": 300
    },
    "id": "Dmk202sWxMN3"
   },
   "outputs": [],
   "source": [
    "# !pip install pandas\n",
    "# !pip install nltk\n",
    "# !pip install scikit-learn\n",
    "# !pip install gensim\n",
    "# !pip install spacy\n",
    "# !pip install textblob\n",
    "# !pip install pyspark"
   ]
  },
  {
   "cell_type": "markdown",
   "metadata": {
    "id": "L9pZzG578jC7"
   },
   "source": [
    "# CARGA DE DATOS"
   ]
  },
  {
   "cell_type": "code",
   "execution_count": null,
   "metadata": {
    "colab": {
     "base_uri": "https://localhost:8080/"
    },
    "id": "EOI6VvkK8iPl",
    "outputId": "c6801a9b-57bf-4782-fe5f-1893d40cf062"
   },
   "outputs": [
    {
     "name": "stdout",
     "output_type": "stream",
     "text": [
      "<class '_io.BytesIO'>\n"
     ]
    }
   ],
   "source": [
    "from zipfile import ZipFile\n",
    "from urllib.request import urlopen\n",
    "from io import BytesIO\n",
    "from bs4 import BeautifulSoup\n",
    "import re\n",
    "import csv\n",
    "\n",
    "request_url_1 = urllib.request.urlopen('https://github.com/LeidyRomero/data_nlp/raw/main/HW01/docs-raw-texts.zip') \n",
    "request_url_2 = urllib.request.urlopen('https://github.com/LeidyRomero/data_nlp/raw/main/HW01/queries-raw-texts.zip') \n",
    "request_url_3 = urllib.request.urlopen('https://github.com/LeidyRomero/data_nlp/raw/main/HW01/relevance-judgments.tsv') \n",
    "\n",
    "z1 = ZipFile(BytesIO(request_url_1.read()))\n",
    "z2 = ZipFile(BytesIO(request_url_2.read()))\n",
    "z3 = request_url_3.read()"
   ]
  },
  {
   "cell_type": "markdown",
   "metadata": {
    "id": "ZSNLS1ufUMYz"
   },
   "source": [
    "# PREPROCESAMIENTO\n",
    "tokenización por palabra, eliminación de stop words, normalización y stemming"
   ]
  },
  {
   "cell_type": "code",
   "execution_count": null,
   "metadata": {
    "id": "ZUQ8c6s-dEaR"
   },
   "outputs": [],
   "source": []
  },
  {
   "cell_type": "code",
   "execution_count": null,
   "metadata": {
    "id": "wYoEo2EndEfX"
   },
   "outputs": [],
   "source": []
  },
  {
   "cell_type": "markdown",
   "metadata": {
    "id": "jGSZScce7p9h"
   },
   "source": [
    "# BUSQUEDA BINARIA USANDO INDICE INVERTIDO (BSII)\n",
    "1. Cree su propia implementación del índice invertido utilizando los 331 documentos en el conjunto de datos. (El índice invertido debe almacenarse y leerse desde el disco.)\n",
    "2. Cree una función que lea el índice invertido y calcule consultas booleanas utilizando el algoritmo de combinación. Debe modificar el algoritmo de combinación para calcular: AND, OR y NOT.\n",
    "3. Para cada una de las 35 consultas en el conjunto de datos, recupere los documentos utilizando consultas binarias conjuntas. Escriba un archivo (BSII-AND-queries_results) con los resultados siguiendo el mismo formato que \"juicios de relevancia\" \n",
    "4. Para cada una de las 35 consultas en el conjunto de datos, recupere los documentos relevantes utilizando consultas binarias disyuntivas. Escriba un archivo (BSII-OR-queries_results) con los resultados siguiendo el mismo formato que \"juicios de relevancia\"  \n"
   ]
  },
  {
   "cell_type": "code",
   "execution_count": null,
   "metadata": {
    "id": "kBUhN9V67u1g"
   },
   "outputs": [],
   "source": []
  },
  {
   "cell_type": "code",
   "execution_count": null,
   "metadata": {
    "id": "zdCILS9H7vXd"
   },
   "outputs": [],
   "source": []
  },
  {
   "cell_type": "code",
   "execution_count": null,
   "metadata": {
    "id": "PcJqxTP47va2"
   },
   "outputs": [],
   "source": []
  },
  {
   "cell_type": "code",
   "execution_count": null,
   "metadata": {
    "id": "8eyBDfA47veU"
   },
   "outputs": [],
   "source": []
  },
  {
   "cell_type": "code",
   "execution_count": null,
   "metadata": {
    "id": "Cmkaix867vhL"
   },
   "outputs": [],
   "source": []
  },
  {
   "cell_type": "code",
   "execution_count": null,
   "metadata": {
    "id": "AfAGeYH37vjh"
   },
   "outputs": [],
   "source": []
  },
  {
   "cell_type": "code",
   "execution_count": null,
   "metadata": {
    "id": "31U0-0yc7vmV"
   },
   "outputs": [],
   "source": []
  },
  {
   "cell_type": "code",
   "execution_count": null,
   "metadata": {
    "id": "zWD0-jbG7voi"
   },
   "outputs": [],
   "source": []
  }
 ],
 "metadata": {
  "colab": {
   "collapsed_sections": [],
   "name": "NLP_HW01_2_BSII.ipynb",
   "provenance": []
  },
  "kernelspec": {
   "display_name": "Python 3",
   "language": "python",
   "name": "python3"
  },
  "language_info": {
   "codemirror_mode": {
    "name": "ipython",
    "version": 3
   },
   "file_extension": ".py",
   "mimetype": "text/x-python",
   "name": "python",
   "nbconvert_exporter": "python",
   "pygments_lexer": "ipython3",
   "version": "3.7.9"
  }
 },
 "nbformat": 4,
 "nbformat_minor": 1
}
